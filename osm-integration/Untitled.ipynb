{
 "cells": [
  {
   "cell_type": "code",
   "execution_count": 7,
   "id": "11025c78-d9ea-46db-a34d-5c116c334f6f",
   "metadata": {},
   "outputs": [],
   "source": [
    "import osmnx as ox\n",
    "import matplotlib.pyplot as plt\n",
    "# import shapely.geometry as shapely\n",
    "# from shapely import Point\n",
    "import shapely as shapely"
   ]
  },
  {
   "cell_type": "code",
   "execution_count": 2,
   "id": "4042cfa6-fd14-4cf2-a56a-af7adb8211d6",
   "metadata": {},
   "outputs": [],
   "source": [
    "def show_map():\n",
    "    G = ox.graph_from_place(\"Sampa\", network_type=\"drive\")\n",
    "    # fig, ax = ox.plot_graph(G)\n",
    "    gdf_nodes, gdf_relationships = ox.graph_to_gdfs(G)\n",
    "    gdf_nodes.reset_index(inplace=True)\n",
    "    gdf_relationships.reset_index(inplace=True)\n",
    "    # gdf_nodes.plot(markersize=0.1)\n",
    "    # gdf_relationships.plot(markersize=0.01, linewidth=0.5)\n",
    "    ox.plot_graph(G)\n",
    "    plt.show()"
   ]
  },
  {
   "cell_type": "code",
   "execution_count": 2,
   "id": "eb437d72-7cbe-408f-8209-c874bfe350f5",
   "metadata": {},
   "outputs": [],
   "source": [
    "G = ox.graph_from_place(\"Sampa\", network_type=\"drive\")"
   ]
  },
  {
   "cell_type": "code",
   "execution_count": 3,
   "id": "c4931e34-2709-49d4-8b2f-201db2baa3f0",
   "metadata": {
    "scrolled": true
   },
   "outputs": [],
   "source": [
    "gdf_nodes, gdf_relationships = ox.graph_to_gdfs(G)\n",
    "gdf_nodes.reset_index(inplace=True)\n",
    "gdf_relationships.reset_index(inplace=True)"
   ]
  },
  {
   "cell_type": "code",
   "execution_count": null,
   "id": "25253973-50d7-40e4-a6a7-784a488bfb38",
   "metadata": {},
   "outputs": [],
   "source": [
    "show_map()"
   ]
  },
  {
   "cell_type": "code",
   "execution_count": null,
   "id": "ac04aa83-6a2b-4072-a6a3-a87a317aa7d7",
   "metadata": {},
   "outputs": [],
   "source": [
    "gdf_relationships.geometry"
   ]
  },
  {
   "cell_type": "code",
   "execution_count": 43,
   "id": "ba8cda96-5bdd-4288-ae1b-1c6e74d75583",
   "metadata": {},
   "outputs": [],
   "source": [
    "def linestring_to_points(geometry):\n",
    "    \"\"\"Converte um objeto Linestring em uma lista de coordenadas (pontos).\"\"\"\n",
    "    return list(map(lambda coords: shapely.Point(coords), geometry.coords))"
   ]
  },
  {
   "cell_type": "code",
   "execution_count": 40,
   "id": "06dbc876-9179-4809-bbb3-a0eaba865867",
   "metadata": {},
   "outputs": [],
   "source": [
    "def coords_to_point(coords):\n",
    "  \"\"\"Converte uma lista de coordenadas (x, y) em um objeto Point.\"\"\"\n",
    "  return shapely.Point(coords)"
   ]
  },
  {
   "cell_type": "code",
   "execution_count": 44,
   "id": "bc6860a3-aa9e-4634-80d8-82076f6a5f38",
   "metadata": {},
   "outputs": [],
   "source": [
    "gdf_relationships['points'] = gdf_relationships['geometry'].apply(linestring_to_points)"
   ]
  },
  {
   "cell_type": "code",
   "execution_count": null,
   "id": "97f9c5aa-2191-44d6-ac8b-882adaaf0983",
   "metadata": {},
   "outputs": [],
   "source": [
    "gdf_relationships['points']"
   ]
  },
  {
   "cell_type": "code",
   "execution_count": null,
   "id": "fa988181-c26e-4c19-a45b-a8b469ed4157",
   "metadata": {},
   "outputs": [],
   "source": [
    "gdf_nodes.geometry"
   ]
  },
  {
   "cell_type": "code",
   "execution_count": null,
   "id": "32e7fc4c-ef51-45fa-a3c7-b6ddc60a3915",
   "metadata": {},
   "outputs": [],
   "source": [
    "# gdf_nodes['geojson_geometry'] = gdf_nodes['geometry'].to_json()\n",
    "gdf_nodes['geometry'] = gdf_nodes['geometry'].map(lambda point: shapely.to_geojson(point))"
   ]
  },
  {
   "cell_type": "code",
   "execution_count": null,
   "id": "98079b9c-b73f-4e6e-b2f8-23578d97e089",
   "metadata": {},
   "outputs": [],
   "source": [
    "gdf_nodes['geometry']"
   ]
  },
  {
   "cell_type": "code",
   "execution_count": null,
   "id": "262ad9f6-57b7-443f-a6c5-11f029ae1d69",
   "metadata": {},
   "outputs": [],
   "source": [
    "gdf_relationships"
   ]
  }
 ],
 "metadata": {
  "kernelspec": {
   "display_name": "Python 3 (ipykernel)",
   "language": "python",
   "name": "python3"
  },
  "language_info": {
   "codemirror_mode": {
    "name": "ipython",
    "version": 3
   },
   "file_extension": ".py",
   "mimetype": "text/x-python",
   "name": "python",
   "nbconvert_exporter": "python",
   "pygments_lexer": "ipython3",
   "version": "3.12.5"
  }
 },
 "nbformat": 4,
 "nbformat_minor": 5
}
